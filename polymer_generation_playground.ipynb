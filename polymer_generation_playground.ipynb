{
 "cells": [
  {
   "cell_type": "code",
   "execution_count": 2,
   "id": "a5d7bdcc",
   "metadata": {},
   "outputs": [],
   "source": [
    "import warnings\n",
    "warnings.filterwarnings(\"ignore\")\n",
    "\n",
    "import os\n",
    "os.environ['TF_ENABLE_ONEDNN_OPTS'] = '0'\n",
    "os.environ['TF_CPP_MIN_LOG_LEVEL'] = '2'\n",
    "\n",
    "import pickle\n",
    "\n",
    "import proplot as pplt\n",
    "from graph_utils import *\n",
    "from data_utils import *\n",
    "from model_utils import *\n",
    "from analysis_utils import *\n",
    "from saliency_utils import *\n",
    "from generation_utils import *\n",
    "\n",
    "DATA_DIR = '/scratch/gpfs/sj0161/topo_data/'\n",
    "WEIGHT_DIR = '/scratch/gpfs/sj0161/topo_result/'\n",
    "ANALYSIS_DIR = '/scratch/gpfs/sj0161/topo_analysis/'\n",
    "\n",
    "\n",
    "pplt.rc['figure.facecolor'] = 'white'\n",
    "\n",
    "COLORS = []\n",
    "colors1 = pplt.Cycle('default')\n",
    "colors2 = pplt.Cycle('538')\n",
    "\n",
    "for color in colors1:\n",
    "    COLORS.append(color['color'])\n",
    "\n",
    "for color in colors2:\n",
    "    COLORS.append(color['color'])\n",
    "\n",
    "LATENT_DIM = 8"
   ]
  },
  {
   "cell_type": "code",
   "execution_count": 4,
   "id": "bc4b783d",
   "metadata": {},
   "outputs": [
    {
     "name": "stdout",
     "output_type": "stream",
     "text": [
      "desc_gnn_cnn_20230828_8_val_decoder_acc_True_True_1.0_[1.0, 1, 1]_0.001_64.h5 finished in 1.05 sec ...\n"
     ]
    }
   ],
   "source": [
    "# Load latent space\n",
    "with open(os.path.join(ANALYSIS_DIR, \"latent_space.pickle\"), \"rb\") as handle:\n",
    "    latent_train = pickle.load(handle)\n",
    "    latent_valid = pickle.load(handle)\n",
    "    latent_test = pickle.load(handle)\n",
    "    \n",
    "latent_all = np.concatenate((latent_train, latent_valid, latent_test), axis=0)\n",
    "\n",
    "# Load data label\n",
    "((x_train, y_train, c_train, l_train, graph_train),\n",
    "(x_valid, y_valid, c_valid, l_valid, graph_valid),\n",
    "(x_test, y_test, c_test, l_test, graph_test),\n",
    "NAMES, SCALER, LE) = load_data(os.path.join(DATA_DIR, 'rg2.pickle'), fold=0, if_validation=True)\n",
    "\n",
    "graph_all = np.concatenate((graph_train, graph_valid, graph_test))\n",
    "y_all = np.concatenate((y_train, y_valid, y_test))\n",
    "c_all = np.concatenate((c_train, c_valid, c_test))\n",
    "\n",
    "# Load TopoGNN model\n",
    "file = \"desc_gnn_cnn_20230828_8_val_decoder_acc_True_True_1.0_[1.0, 1, 1]_0.001_64\"\n",
    "\n",
    "ENCODER, DECODER, MONITOR, IF_REG, IF_CLS, weights, LR, BS = get_spec(file)\n",
    "\n",
    "model, pickle_file = train_vae(ENCODER, DECODER, MONITOR, IF_REG, IF_CLS,\n",
    "                               x_train, x_valid, y_train, y_valid, c_train, c_valid,\n",
    "                               l_train, l_valid, 1.0, weights, LR, BS, False)"
   ]
  },
  {
   "cell_type": "code",
   "execution_count": null,
   "id": "b2ae9abb",
   "metadata": {},
   "outputs": [],
   "source": [
    "def check_isomorphism(graph_list, new_graph):\n",
    "    for graph in graph_list:\n",
    "        if nx.is_isomorphic(graph, new_graph):\n",
    "            return True\n",
    "    return False\n",
    "\n",
    "\n",
    "def rg_latent_vector(l, y_train, c_train, poly_type='branch', target_rg=40):\n",
    "    \n",
    "    idx = np.where(NAMES == poly_type)[0][0]\n",
    "\n",
    "    a = l[np.where(c_train == idx)[0]]\n",
    "    y = y_train[np.where(c_train == idx)[0]]\n",
    "    \n",
    "    if np.abs(y - target_rg).min() < 1:\n",
    "        \n",
    "        idx2 = np.where(np.abs(y - target_rg) < 1)[0]\n",
    "\n",
    "        return a[idx2], y[idx2]\n",
    "    \n",
    "    else:\n",
    "        \n",
    "        return None, None"
   ]
  },
  {
   "cell_type": "code",
   "execution_count": 19,
   "id": "351c7a23",
   "metadata": {},
   "outputs": [],
   "source": [
    "def gen_prop_polymer(target_rg=30, target_top=\"branch\", max_iter=1000):\n",
    "    outputs = []\n",
    "    graphs = []\n",
    "    \n",
    "\n",
    "    latent_vector, rg_dataset = rg_latent_vector(latent_all, y_all, c_all, target_top, target_rg)\n",
    "    \n",
    "    if latent_vector is None:\n",
    "        raise Exception(\"The target rg2 is too large/small \")\n",
    "\n",
    "    for i in range(max_iter):\n",
    "        noise = np.random.normal(0, 1, (1, 8)) * 0.1\n",
    "        \n",
    "        num = len(latent_vector)\n",
    "\n",
    "        for j in range(num):\n",
    "            K.clear_session()\n",
    "            d_in = latent_vector[j, ...] + noise\n",
    "            graph_raw, graph, gen_cls, cln_cls, gen_reg, cln_reg_m, cln_reg_s = polymer_generation(model, d_in, None, ENCODER)\n",
    "\n",
    "            flag1 = np.abs(gen_reg - cln_reg_m) < 2\n",
    "            flag2 = np.abs(gen_reg - target_rg) < 2\n",
    "            flag3 = np.abs(cln_reg_m - target_rg) < 2\n",
    "            flag4 = gen_cls == cln_cls\n",
    "            flag5 = cln_cls == target_top\n",
    "\n",
    "            x_clean_ = nx.to_numpy_array(graph)\n",
    "            n_clean = len(x_clean_)\n",
    "            x_clean = np.zeros((1, 100, 100))\n",
    "            x_clean[0, :n_clean, :n_clean] = x_clean_\n",
    "            x_clean = x_clean.astype(\"int\")\n",
    "\n",
    "            l_clean = get_desc(graph)[None, ...]\n",
    "            l_clean = SCALER.transform(l_clean)\n",
    "\n",
    "            d_clean = latent_model(model, data=[x_clean, l_clean], enc_type=ENCODER, mean_var=False)\n",
    "\n",
    "            if flag1 and flag2 and flag3 and flag4 and flag5: \n",
    "                if len(graphs) > 0:\n",
    "                    if not check_isomorphism(graphs, graph) and not check_isomorphism(graph_all, graph):\n",
    "                        graphs.append(graph)\n",
    "                        outputs.append([d_in, graph_raw, graph, gen_cls, cln_cls, gen_reg, cln_reg_m, cln_reg_s, latent_vector[j, ...], d_in, d_clean])\n",
    "                else:\n",
    "                    graphs.append(graph)\n",
    "                    outputs.append([d_in, graph_raw, graph, gen_cls, cln_cls, gen_reg, cln_reg_m, cln_reg_s, latent_vector[j, ...], d_in, d_clean])\n",
    "\n",
    "            print(f\"{len(outputs)}/{num * max_iter} found ...\", end=\"\\r\")\n",
    "    # check latent space distance\n",
    "    z_cleans = []\n",
    "    z_raws   = []\n",
    "    rmses    = []\n",
    "    new_outputs = []\n",
    "    \n",
    "    for i in range(len(outputs)):\n",
    "        graph = outputs[i][2]\n",
    "        x_clean_ = nx.to_numpy_array(graph)\n",
    "        n_clean = len(x_clean_)\n",
    "        x_clean = np.zeros((1, 100, 100))\n",
    "        x_clean[0, :n_clean, :n_clean] = x_clean_\n",
    "        x_clean = x_clean.astype(\"int\")\n",
    "\n",
    "        l_clean = get_desc(graph)[None, ...]\n",
    "        l_clean = SCALER.transform(l_clean)\n",
    "\n",
    "        z_clean = latent_model(model, data=[x_clean, l_clean], enc_type=ENCODER, mean_var=False).squeeze()\n",
    "\n",
    "        z_raw = outputs[i][0].squeeze()\n",
    "        rmse = skm.mean_absolute_error(z_raw, z_clean)\n",
    "\n",
    "        if rmse < 1:\n",
    "            z_cleans.append(z_clean)\n",
    "            z_raws.append(z_raw)\n",
    "            rmses.append(rmse)\n",
    "            new_outputs.append(outputs[i]+[z_clean])\n",
    "            \n",
    "    print(f\"{len(new_outputs)}/{len(outputs)} latent space check passed ...\")\n",
    "            \n",
    "    return new_outputs"
   ]
  },
  {
   "cell_type": "code",
   "execution_count": 27,
   "id": "baf8c1d0",
   "metadata": {},
   "outputs": [
    {
     "name": "stdout",
     "output_type": "stream",
     "text": [
      "3/3 latent space check passed ...\n"
     ]
    }
   ],
   "source": [
    "target_rg  = 26.5\n",
    "target_top  = \"star\"\n",
    "\n",
    "outputs = gen_prop_polymer(target_rg=target_rg, target_top=target_top, max_iter=10)"
   ]
  },
  {
   "cell_type": "code",
   "execution_count": 30,
   "id": "5147185e",
   "metadata": {},
   "outputs": [
    {
     "data": {
      "image/png": "[encoded data removed]",
      "text/plain": [
       "Figure(nrows=1, ncols=3, refwidth=1.0, refheight=1.0)"
      ]
     },
     "metadata": {
      "image/png": {
       "height": 130,
       "width": 337
      }
     },
     "output_type": "display_data"
    }
   ],
   "source": [
    "fig, ax = pplt.subplots(ncols=len(outputs), nrows=1, refwidth=1, refheight=1)\n",
    "\n",
    "for i in range(len(outputs)):\n",
    "    nx.draw(outputs[i][2], pos=nx.kamada_kawai_layout(outputs[i][2]), \n",
    "            node_size=5, ax=ax[i], node_color=COLORS[0])\n",
    "    ax[i].set_title(f\"{str(outputs[i][6])[:5]}\")"
   ]
  },
  {
   "cell_type": "code",
   "execution_count": 32,
   "id": "75467dd7",
   "metadata": {},
   "outputs": [
    {
     "name": "stdout",
     "output_type": "stream",
     "text": [
      "6/6 latent space check passed ...\n"
     ]
    }
   ],
   "source": [
    "target_rg  = 40\n",
    "target_top  = \"star\"\n",
    "\n",
    "outputs = gen_prop_polymer(target_rg=target_rg, target_top=target_top, max_iter=10)"
   ]
  },
  {
   "cell_type": "code",
   "execution_count": 33,
   "id": "35ba2bc2",
   "metadata": {},
   "outputs": [
    {
     "data": {
      "image/png": "[encoded data removed]",
      "text/plain": [
       "Figure(nrows=1, ncols=6, refwidth=1.0, refheight=1.0)"
      ]
     },
     "metadata": {
      "image/png": {
       "height": 130,
       "width": 675
      }
     },
     "output_type": "display_data"
    }
   ],
   "source": [
    "fig, ax = pplt.subplots(ncols=len(outputs), nrows=1, refwidth=1, refheight=1)\n",
    "\n",
    "for i in range(len(outputs)):\n",
    "    nx.draw(outputs[i][2], pos=nx.kamada_kawai_layout(outputs[i][2]), \n",
    "            node_size=5, ax=ax[i], node_color=COLORS[0])\n",
    "    ax[i].set_title(f\"{str(outputs[i][6])[:5]}\")"
   ]
  }
 ],
 "metadata": {
  "kernelspec": {
   "display_name": "base",
   "language": "python",
   "name": "python3"
  },
  "language_info": {
   "codemirror_mode": {
    "name": "ipython",
    "version": 3
   },
   "file_extension": ".py",
   "mimetype": "text/x-python",
   "name": "python",
   "nbconvert_exporter": "python",
   "pygments_lexer": "ipython3",
   "version": "3.8.17"
  }
 },
 "nbformat": 4,
 "nbformat_minor": 5
}
